{
  "nbformat": 4,
  "nbformat_minor": 0,
  "metadata": {
    "colab": {
      "name": "IIITD assignment task 2 test script.ipynb",
      "provenance": [],
      "collapsed_sections": [],
      "authorship_tag": "ABX9TyOOGDtjvo9NlspmlvO2vVSy",
      "include_colab_link": true
    },
    "kernelspec": {
      "name": "python3",
      "display_name": "Python 3"
    },
    "language_info": {
      "name": "python"
    }
  },
  "cells": [
    {
      "cell_type": "markdown",
      "metadata": {
        "id": "view-in-github",
        "colab_type": "text"
      },
      "source": [
        "<a href=\"https://colab.research.google.com/github/sayan0506/Task-2-Internship/blob/main/IIITD_assignment_task_2_test_script.ipynb\" target=\"_parent\"><img src=\"https://colab.research.google.com/assets/colab-badge.svg\" alt=\"Open In Colab\"/></a>"
      ]
    },
    {
      "cell_type": "markdown",
      "metadata": {
        "id": "V9JM3grPnzHI"
      },
      "source": [
        "# **Training Central Dataset**\n",
        "\n",
        "Assignment link: \n",
        "\n",
        "https://docs.google.com/document/d/1WQHJ2KpImvA1l5QOkLQjaECOSKMiT3jp_UKH2p1zk_c/edit"
      ]
    },
    {
      "cell_type": "code",
      "metadata": {
        "colab": {
          "base_uri": "https://localhost:8080/"
        },
        "id": "AblYPSh4oetO",
        "outputId": "f5a07441-c240-49ae-8133-303e1b571a19"
      },
      "source": [
        "# install keras livelossplot\n",
        "!pip -q install livelossplot\n",
        "\n",
        "# install wandb\n",
        "!pip install --upgrade wandb"
      ],
      "execution_count": 4,
      "outputs": [
        {
          "output_type": "stream",
          "text": [
            "Collecting wandb\n",
            "\u001b[?25l  Downloading https://files.pythonhosted.org/packages/26/70/a0f47563dc06df4dad4db96938d65a10efeb8ea909a423c96a0bfffc845c/wandb-0.10.24-py2.py3-none-any.whl (2.0MB)\n",
            "\u001b[K     |████████████████████████████████| 2.1MB 7.8MB/s \n",
            "\u001b[?25hRequirement already satisfied, skipping upgrade: python-dateutil>=2.6.1 in /usr/local/lib/python3.7/dist-packages (from wandb) (2.8.1)\n",
            "Collecting docker-pycreds>=0.4.0\n",
            "  Downloading https://files.pythonhosted.org/packages/f5/e8/f6bd1eee09314e7e6dee49cbe2c5e22314ccdb38db16c9fc72d2fa80d054/docker_pycreds-0.4.0-py2.py3-none-any.whl\n",
            "Collecting configparser>=3.8.1\n",
            "  Downloading https://files.pythonhosted.org/packages/fd/01/ff260a18caaf4457eb028c96eeb405c4a230ca06c8ec9c1379f813caa52e/configparser-5.0.2-py3-none-any.whl\n",
            "Collecting shortuuid>=0.5.0\n",
            "  Downloading https://files.pythonhosted.org/packages/25/a6/2ecc1daa6a304e7f1b216f0896b26156b78e7c38e1211e9b798b4716c53d/shortuuid-1.0.1-py3-none-any.whl\n",
            "Requirement already satisfied, skipping upgrade: psutil>=5.0.0 in /usr/local/lib/python3.7/dist-packages (from wandb) (5.4.8)\n",
            "Collecting GitPython>=1.0.0\n",
            "\u001b[?25l  Downloading https://files.pythonhosted.org/packages/a6/99/98019716955ba243657daedd1de8f3a88ca1f5b75057c38e959db22fb87b/GitPython-3.1.14-py3-none-any.whl (159kB)\n",
            "\u001b[K     |████████████████████████████████| 163kB 31.6MB/s \n",
            "\u001b[?25hRequirement already satisfied, skipping upgrade: promise<3,>=2.0 in /usr/local/lib/python3.7/dist-packages (from wandb) (2.3)\n",
            "Requirement already satisfied, skipping upgrade: Click>=7.0 in /usr/local/lib/python3.7/dist-packages (from wandb) (7.1.2)\n",
            "Requirement already satisfied, skipping upgrade: requests<3,>=2.0.0 in /usr/local/lib/python3.7/dist-packages (from wandb) (2.23.0)\n",
            "Requirement already satisfied, skipping upgrade: protobuf>=3.12.0 in /usr/local/lib/python3.7/dist-packages (from wandb) (3.12.4)\n",
            "Requirement already satisfied, skipping upgrade: PyYAML in /usr/local/lib/python3.7/dist-packages (from wandb) (3.13)\n",
            "Collecting pathtools\n",
            "  Downloading https://files.pythonhosted.org/packages/e7/7f/470d6fcdf23f9f3518f6b0b76be9df16dcc8630ad409947f8be2eb0ed13a/pathtools-0.1.2.tar.gz\n",
            "Requirement already satisfied, skipping upgrade: six>=1.13.0 in /usr/local/lib/python3.7/dist-packages (from wandb) (1.15.0)\n",
            "Collecting sentry-sdk>=0.4.0\n",
            "\u001b[?25l  Downloading https://files.pythonhosted.org/packages/f3/92/5a33be64990ba815364a8f2dd9e6f51de60d23dfddafb4f1fc5577d4dc64/sentry_sdk-1.0.0-py2.py3-none-any.whl (131kB)\n",
            "\u001b[K     |████████████████████████████████| 133kB 42.3MB/s \n",
            "\u001b[?25hCollecting subprocess32>=3.5.3\n",
            "\u001b[?25l  Downloading https://files.pythonhosted.org/packages/32/c8/564be4d12629b912ea431f1a50eb8b3b9d00f1a0b1ceff17f266be190007/subprocess32-3.5.4.tar.gz (97kB)\n",
            "\u001b[K     |████████████████████████████████| 102kB 9.1MB/s \n",
            "\u001b[?25hCollecting gitdb<5,>=4.0.1\n",
            "\u001b[?25l  Downloading https://files.pythonhosted.org/packages/ea/e8/f414d1a4f0bbc668ed441f74f44c116d9816833a48bf81d22b697090dba8/gitdb-4.0.7-py3-none-any.whl (63kB)\n",
            "\u001b[K     |████████████████████████████████| 71kB 7.4MB/s \n",
            "\u001b[?25hRequirement already satisfied, skipping upgrade: chardet<4,>=3.0.2 in /usr/local/lib/python3.7/dist-packages (from requests<3,>=2.0.0->wandb) (3.0.4)\n",
            "Requirement already satisfied, skipping upgrade: idna<3,>=2.5 in /usr/local/lib/python3.7/dist-packages (from requests<3,>=2.0.0->wandb) (2.10)\n",
            "Requirement already satisfied, skipping upgrade: certifi>=2017.4.17 in /usr/local/lib/python3.7/dist-packages (from requests<3,>=2.0.0->wandb) (2020.12.5)\n",
            "Requirement already satisfied, skipping upgrade: urllib3!=1.25.0,!=1.25.1,<1.26,>=1.21.1 in /usr/local/lib/python3.7/dist-packages (from requests<3,>=2.0.0->wandb) (1.24.3)\n",
            "Requirement already satisfied, skipping upgrade: setuptools in /usr/local/lib/python3.7/dist-packages (from protobuf>=3.12.0->wandb) (54.2.0)\n",
            "Collecting smmap<5,>=3.0.1\n",
            "  Downloading https://files.pythonhosted.org/packages/68/ee/d540eb5e5996eb81c26ceffac6ee49041d473bc5125f2aa995cf51ec1cf1/smmap-4.0.0-py2.py3-none-any.whl\n",
            "Building wheels for collected packages: pathtools, subprocess32\n",
            "  Building wheel for pathtools (setup.py) ... \u001b[?25l\u001b[?25hdone\n",
            "  Created wheel for pathtools: filename=pathtools-0.1.2-cp37-none-any.whl size=8786 sha256=954f999b743c48b736b9e418d8efa5905eb83c53e31749593824441d4c1a7062\n",
            "  Stored in directory: /root/.cache/pip/wheels/0b/04/79/c3b0c3a0266a3cb4376da31e5bfe8bba0c489246968a68e843\n",
            "  Building wheel for subprocess32 (setup.py) ... \u001b[?25l\u001b[?25hdone\n",
            "  Created wheel for subprocess32: filename=subprocess32-3.5.4-cp37-none-any.whl size=6489 sha256=8bfedeb07d62b9dbccea39bb07c0e73601e04a83334eaddbfdcc9dd43fb15eae\n",
            "  Stored in directory: /root/.cache/pip/wheels/68/39/1a/5e402bdfdf004af1786c8b853fd92f8c4a04f22aad179654d1\n",
            "Successfully built pathtools subprocess32\n",
            "Installing collected packages: docker-pycreds, configparser, shortuuid, smmap, gitdb, GitPython, pathtools, sentry-sdk, subprocess32, wandb\n",
            "Successfully installed GitPython-3.1.14 configparser-5.0.2 docker-pycreds-0.4.0 gitdb-4.0.7 pathtools-0.1.2 sentry-sdk-1.0.0 shortuuid-1.0.1 smmap-4.0.0 subprocess32-3.5.4 wandb-0.10.24\n"
          ],
          "name": "stdout"
        }
      ]
    },
    {
      "cell_type": "markdown",
      "metadata": {
        "id": "RlXgVdbZU61s"
      },
      "source": [
        "# **Import Modules**"
      ]
    },
    {
      "cell_type": "code",
      "metadata": {
        "id": "-LHfAaUOU0W1"
      },
      "source": [
        "import zipfile\n",
        "import os\n",
        "import numpy as np\n",
        "import matplotlib.pyplot as plt\n",
        "import seaborn as sns\n",
        "import random\n",
        "\n",
        "import tensorflow as tf"
      ],
      "execution_count": 8,
      "outputs": []
    },
    {
      "cell_type": "markdown",
      "metadata": {
        "id": "4CT776bzqF0G"
      },
      "source": [
        "# **Environment Setup**\n",
        "**Improve Reproducibility**"
      ]
    },
    {
      "cell_type": "code",
      "metadata": {
        "id": "sgz94t10m4JH"
      },
      "source": [
        "# improve reproducibility and make it more deterministic\n",
        "os.environ['TF_CUDNN_DETERMINISTIC'] = '1'\n",
        "random.seed(hash(\"setting random seeds\") % 2**32 - 1)\n",
        "np.random.seed(hash(\"improves reproducibility\") % 2**32 - 1)\n",
        "tf.random.set_seed(hash(\"by rmoving stochasticity\")% 2**32 -1)"
      ],
      "execution_count": 9,
      "outputs": []
    },
    {
      "cell_type": "markdown",
      "metadata": {
        "id": "L4aZeuaFst1X"
      },
      "source": [
        "**Setup wandb environment**"
      ]
    },
    {
      "cell_type": "code",
      "metadata": {
        "id": "PWCht1uZrUHX"
      },
      "source": [
        "import wandb\n",
        "from wandb.keras import WandbCallback\n",
        "\n",
        "# authorize\n",
        "# wandb.login()"
      ],
      "execution_count": 10,
      "outputs": []
    },
    {
      "cell_type": "markdown",
      "metadata": {
        "id": "Toa_kMNhtXlO"
      },
      "source": [
        "# **Download and unzipping the Dataset**\n",
        "\n",
        "[Dropbox dataset link](https://www.dropbox.com/s/pan6mutc5xj5kj0/trainPart1.zip)"
      ]
    },
    {
      "cell_type": "code",
      "metadata": {
        "colab": {
          "base_uri": "https://localhost:8080/"
        },
        "id": "tuSynr1_tWu0",
        "outputId": "62a5412f-55cc-4887-c8c5-32c04dddb225"
      },
      "source": [
        "!wget https://www.dropbox.com/s/pan6mutc5xj5kj0/trainPart1.zip"
      ],
      "execution_count": 11,
      "outputs": [
        {
          "output_type": "stream",
          "text": [
            "--2021-04-05 16:08:34--  https://www.dropbox.com/s/pan6mutc5xj5kj0/trainPart1.zip\n",
            "Resolving www.dropbox.com (www.dropbox.com)... 162.125.1.18, 2620:100:6016:18::a27d:112\n",
            "Connecting to www.dropbox.com (www.dropbox.com)|162.125.1.18|:443... connected.\n",
            "HTTP request sent, awaiting response... 301 Moved Permanently\n",
            "Location: /s/raw/pan6mutc5xj5kj0/trainPart1.zip [following]\n",
            "--2021-04-05 16:08:34--  https://www.dropbox.com/s/raw/pan6mutc5xj5kj0/trainPart1.zip\n",
            "Reusing existing connection to www.dropbox.com:443.\n",
            "HTTP request sent, awaiting response... 302 Found\n",
            "Location: https://ucc2dd0ed8f0102e71a9a0ddd118.dl.dropboxusercontent.com/cd/0/inline/BMDCeJXU3DijmJsdAB4e11gAAFQPAxDXMsmmFnuuCRE5GFpm7hnlcI_7pZNEx4e7URLoPgBSHhAZLgtzyvKehSajrWiE2CqPlno1Vfmtw_gt3FzAabWH8bECqCOzMRhGpnlTsTgI1fLQAStX7snQ2Tie/file# [following]\n",
            "--2021-04-05 16:08:34--  https://ucc2dd0ed8f0102e71a9a0ddd118.dl.dropboxusercontent.com/cd/0/inline/BMDCeJXU3DijmJsdAB4e11gAAFQPAxDXMsmmFnuuCRE5GFpm7hnlcI_7pZNEx4e7URLoPgBSHhAZLgtzyvKehSajrWiE2CqPlno1Vfmtw_gt3FzAabWH8bECqCOzMRhGpnlTsTgI1fLQAStX7snQ2Tie/file\n",
            "Resolving ucc2dd0ed8f0102e71a9a0ddd118.dl.dropboxusercontent.com (ucc2dd0ed8f0102e71a9a0ddd118.dl.dropboxusercontent.com)... 162.125.1.15, 2620:100:601a:15::a27d:70f\n",
            "Connecting to ucc2dd0ed8f0102e71a9a0ddd118.dl.dropboxusercontent.com (ucc2dd0ed8f0102e71a9a0ddd118.dl.dropboxusercontent.com)|162.125.1.15|:443... connected.\n",
            "HTTP request sent, awaiting response... 302 Found\n",
            "Location: /cd/0/inline2/BMCFEy7Rmi0svrhGsHyIUFYS6ZBsY7NEk8KxpiYgf6mtsACW3XEH3X5Cgt4XLr3gSa_HrbG16tBJX8QBQe14lrl4tGtX1rvnSaHuWdYZmEdr_mzLZqQYX1gr_libTc9w8ywhVp07_GJP6DDMf4CdHqN7iPxi3dn0QcMWaQ5YgnfKYa1S9ffEa0_qIBZTSB7CVXzaw0gmlRNy1E4zBv_hyUk2MRkezMVarENyf5ZeMQRfOLMxdfkV_oAgKslFHOh60LrDh0BBJ7z0T9wmPa-7xXFJDvAW2JdmWHF69WlgYi-PUg53x23NVCaikwoinC7srsIeKa16RztfinUm310lW_5itvNWdlDEcDnXfFIdWpKzzqmr5UEDbyra1t6Tc16-va8/file [following]\n",
            "--2021-04-05 16:08:35--  https://ucc2dd0ed8f0102e71a9a0ddd118.dl.dropboxusercontent.com/cd/0/inline2/BMCFEy7Rmi0svrhGsHyIUFYS6ZBsY7NEk8KxpiYgf6mtsACW3XEH3X5Cgt4XLr3gSa_HrbG16tBJX8QBQe14lrl4tGtX1rvnSaHuWdYZmEdr_mzLZqQYX1gr_libTc9w8ywhVp07_GJP6DDMf4CdHqN7iPxi3dn0QcMWaQ5YgnfKYa1S9ffEa0_qIBZTSB7CVXzaw0gmlRNy1E4zBv_hyUk2MRkezMVarENyf5ZeMQRfOLMxdfkV_oAgKslFHOh60LrDh0BBJ7z0T9wmPa-7xXFJDvAW2JdmWHF69WlgYi-PUg53x23NVCaikwoinC7srsIeKa16RztfinUm310lW_5itvNWdlDEcDnXfFIdWpKzzqmr5UEDbyra1t6Tc16-va8/file\n",
            "Reusing existing connection to ucc2dd0ed8f0102e71a9a0ddd118.dl.dropboxusercontent.com:443.\n",
            "HTTP request sent, awaiting response... 200 OK\n",
            "Length: 10059590 (9.6M) [application/zip]\n",
            "Saving to: ‘trainPart1.zip.1’\n",
            "\n",
            "trainPart1.zip.1    100%[===================>]   9.59M  45.4MB/s    in 0.2s    \n",
            "\n",
            "2021-04-05 16:08:35 (45.4 MB/s) - ‘trainPart1.zip.1’ saved [10059590/10059590]\n",
            "\n"
          ],
          "name": "stdout"
        }
      ]
    },
    {
      "cell_type": "markdown",
      "metadata": {
        "id": "G3dKT3hxtQZ-"
      },
      "source": [
        "## Unzipping"
      ]
    },
    {
      "cell_type": "code",
      "metadata": {
        "id": "5aNwqT2ItDF2"
      },
      "source": [
        "# defining unzipping function\n",
        "def unzip(zip_file, content_dir):\n",
        "  if not os.path.isdir(content_dir):\n",
        "    os.mkdir(content_dir)\n",
        "\n",
        "  # unzipping\n",
        "  with zipfile.ZipFile(zip_file, 'r') as zip_ref:\n",
        "    zip_ref.extractall(content_dir)"
      ],
      "execution_count": 13,
      "outputs": []
    },
    {
      "cell_type": "code",
      "metadata": {
        "id": "KF-9DvoUyaYi"
      },
      "source": [
        "# zipfile path\n",
        "zip_file = '/content/trainPart1.zip'\n",
        "\n",
        "# content directory\n",
        "content_dir = 'master_data'\n",
        "\n",
        "# calling unzip\n",
        "unzip(zip_file, content_dir)"
      ],
      "execution_count": 15,
      "outputs": []
    },
    {
      "cell_type": "markdown",
      "metadata": {
        "id": "02Q-FS3WzhLt"
      },
      "source": [
        "# **Data Inspection**"
      ]
    },
    {
      "cell_type": "code",
      "metadata": {
        "colab": {
          "base_uri": "https://localhost:8080/"
        },
        "id": "Obw2y2gyzPuT",
        "outputId": "ec52b7a3-2a55-49e0-9123-8cbdd933e3b3"
      },
      "source": [
        "# master directory path\n",
        "img_dir = '/content/master_data/train'\n",
        "\n",
        "# classifiers list\n",
        "print(f'List of classifiers\\n{os.listdir(img_dir)}')\n",
        "\n"
      ],
      "execution_count": 18,
      "outputs": [
        {
          "output_type": "stream",
          "text": [
            "List of classifiers\n",
            "['Sample010', 'Sample038', 'Sample004', 'Sample006', 'Sample014', 'Sample049', 'Sample023', 'Sample037', 'Sample016', 'Sample043', 'Sample015', 'Sample033', 'Sample054', 'Sample035', 'Sample005', 'Sample019', 'Sample052', 'Sample012', 'Sample056', 'Sample058', 'Sample027', 'Sample031', 'Sample036', 'Sample051', 'Sample008', 'Sample055', 'Sample040', 'Sample059', 'Sample030', 'Sample045', 'Sample044', 'Sample026', 'Sample021', 'Sample042', 'Sample018', 'Sample022', 'Sample020', 'Sample009', 'Sample060', 'Sample062', 'Sample028', 'Sample057', 'Sample061', 'Sample050', 'Sample046', 'Sample041', 'Sample032', 'Sample047', 'Sample001', 'Sample007', 'Sample017', 'Sample034', 'Sample053', 'Sample039', 'Sample029', 'Sample013', 'Sample003', 'Sample002', 'Sample025', 'Sample048', 'Sample011', 'Sample024']\n"
          ],
          "name": "stdout"
        }
      ]
    },
    {
      "cell_type": "code",
      "metadata": {
        "id": "aMpbJGJb0D3C"
      },
      "source": [
        ""
      ],
      "execution_count": null,
      "outputs": []
    }
  ]
}