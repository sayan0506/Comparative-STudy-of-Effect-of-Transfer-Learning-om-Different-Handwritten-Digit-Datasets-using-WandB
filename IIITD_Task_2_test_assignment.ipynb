{
  "nbformat": 4,
  "nbformat_minor": 0,
  "metadata": {
    "colab": {
      "name": "IIITD Task 2 test assignment.ipynb",
      "provenance": [],
      "collapsed_sections": [],
      "authorship_tag": "ABX9TyPn5whxZ3BI9+6g3c1WqhTb",
      "include_colab_link": true
    },
    "kernelspec": {
      "name": "python3",
      "display_name": "Python 3"
    },
    "language_info": {
      "name": "python"
    },
    "widgets": {
      "application/vnd.jupyter.widget-state+json": {
        "ada0d2cc29dc4085b13bba54316ab983": {
          "model_module": "@jupyter-widgets/controls",
          "model_name": "VBoxModel",
          "state": {
            "_view_name": "VBoxView",
            "_dom_classes": [],
            "_model_name": "VBoxModel",
            "_view_module": "@jupyter-widgets/controls",
            "_model_module_version": "1.5.0",
            "_view_count": null,
            "_view_module_version": "1.5.0",
            "box_style": "",
            "layout": "IPY_MODEL_d0269baa26b649d9bfaa993f92b4dea3",
            "_model_module": "@jupyter-widgets/controls",
            "children": [
              "IPY_MODEL_b6c57732b8e242a98cd2f173e2997a5a",
              "IPY_MODEL_efa7f90f11824dd8975ec41f2d781376"
            ]
          }
        },
        "d0269baa26b649d9bfaa993f92b4dea3": {
          "model_module": "@jupyter-widgets/base",
          "model_name": "LayoutModel",
          "state": {
            "_view_name": "LayoutView",
            "grid_template_rows": null,
            "right": null,
            "justify_content": null,
            "_view_module": "@jupyter-widgets/base",
            "overflow": null,
            "_model_module_version": "1.2.0",
            "_view_count": null,
            "flex_flow": null,
            "width": null,
            "min_width": null,
            "border": null,
            "align_items": null,
            "bottom": null,
            "_model_module": "@jupyter-widgets/base",
            "top": null,
            "grid_column": null,
            "overflow_y": null,
            "overflow_x": null,
            "grid_auto_flow": null,
            "grid_area": null,
            "grid_template_columns": null,
            "flex": null,
            "_model_name": "LayoutModel",
            "justify_items": null,
            "grid_row": null,
            "max_height": null,
            "align_content": null,
            "visibility": null,
            "align_self": null,
            "height": null,
            "min_height": null,
            "padding": null,
            "grid_auto_rows": null,
            "grid_gap": null,
            "max_width": null,
            "order": null,
            "_view_module_version": "1.2.0",
            "grid_template_areas": null,
            "object_position": null,
            "object_fit": null,
            "grid_auto_columns": null,
            "margin": null,
            "display": null,
            "left": null
          }
        },
        "b6c57732b8e242a98cd2f173e2997a5a": {
          "model_module": "@jupyter-widgets/controls",
          "model_name": "LabelModel",
          "state": {
            "_view_name": "LabelView",
            "style": "IPY_MODEL_5544486b07214834951ffb3fd7dbbd23",
            "_dom_classes": [],
            "description": "",
            "_model_name": "LabelModel",
            "placeholder": "​",
            "_view_module": "@jupyter-widgets/controls",
            "_model_module_version": "1.5.0",
            "value": " 0.01MB of 0.01MB uploaded (0.00MB deduped)\r",
            "_view_count": null,
            "_view_module_version": "1.5.0",
            "description_tooltip": null,
            "_model_module": "@jupyter-widgets/controls",
            "layout": "IPY_MODEL_509669e8dafe4821800f094e1712d81a"
          }
        },
        "efa7f90f11824dd8975ec41f2d781376": {
          "model_module": "@jupyter-widgets/controls",
          "model_name": "FloatProgressModel",
          "state": {
            "_view_name": "ProgressView",
            "style": "IPY_MODEL_575480aee1b946b8b57cde6fd53bb26b",
            "_dom_classes": [],
            "description": "",
            "_model_name": "FloatProgressModel",
            "bar_style": "",
            "max": 1,
            "_view_module": "@jupyter-widgets/controls",
            "_model_module_version": "1.5.0",
            "value": 1,
            "_view_count": null,
            "_view_module_version": "1.5.0",
            "orientation": "horizontal",
            "min": 0,
            "description_tooltip": null,
            "_model_module": "@jupyter-widgets/controls",
            "layout": "IPY_MODEL_e10596a31b6648e6b0dc2d94c72425cb"
          }
        },
        "5544486b07214834951ffb3fd7dbbd23": {
          "model_module": "@jupyter-widgets/controls",
          "model_name": "DescriptionStyleModel",
          "state": {
            "_view_name": "StyleView",
            "_model_name": "DescriptionStyleModel",
            "description_width": "",
            "_view_module": "@jupyter-widgets/base",
            "_model_module_version": "1.5.0",
            "_view_count": null,
            "_view_module_version": "1.2.0",
            "_model_module": "@jupyter-widgets/controls"
          }
        },
        "509669e8dafe4821800f094e1712d81a": {
          "model_module": "@jupyter-widgets/base",
          "model_name": "LayoutModel",
          "state": {
            "_view_name": "LayoutView",
            "grid_template_rows": null,
            "right": null,
            "justify_content": null,
            "_view_module": "@jupyter-widgets/base",
            "overflow": null,
            "_model_module_version": "1.2.0",
            "_view_count": null,
            "flex_flow": null,
            "width": null,
            "min_width": null,
            "border": null,
            "align_items": null,
            "bottom": null,
            "_model_module": "@jupyter-widgets/base",
            "top": null,
            "grid_column": null,
            "overflow_y": null,
            "overflow_x": null,
            "grid_auto_flow": null,
            "grid_area": null,
            "grid_template_columns": null,
            "flex": null,
            "_model_name": "LayoutModel",
            "justify_items": null,
            "grid_row": null,
            "max_height": null,
            "align_content": null,
            "visibility": null,
            "align_self": null,
            "height": null,
            "min_height": null,
            "padding": null,
            "grid_auto_rows": null,
            "grid_gap": null,
            "max_width": null,
            "order": null,
            "_view_module_version": "1.2.0",
            "grid_template_areas": null,
            "object_position": null,
            "object_fit": null,
            "grid_auto_columns": null,
            "margin": null,
            "display": null,
            "left": null
          }
        },
        "575480aee1b946b8b57cde6fd53bb26b": {
          "model_module": "@jupyter-widgets/controls",
          "model_name": "ProgressStyleModel",
          "state": {
            "_view_name": "StyleView",
            "_model_name": "ProgressStyleModel",
            "description_width": "",
            "_view_module": "@jupyter-widgets/base",
            "_model_module_version": "1.5.0",
            "_view_count": null,
            "_view_module_version": "1.2.0",
            "bar_color": null,
            "_model_module": "@jupyter-widgets/controls"
          }
        },
        "e10596a31b6648e6b0dc2d94c72425cb": {
          "model_module": "@jupyter-widgets/base",
          "model_name": "LayoutModel",
          "state": {
            "_view_name": "LayoutView",
            "grid_template_rows": null,
            "right": null,
            "justify_content": null,
            "_view_module": "@jupyter-widgets/base",
            "overflow": null,
            "_model_module_version": "1.2.0",
            "_view_count": null,
            "flex_flow": null,
            "width": null,
            "min_width": null,
            "border": null,
            "align_items": null,
            "bottom": null,
            "_model_module": "@jupyter-widgets/base",
            "top": null,
            "grid_column": null,
            "overflow_y": null,
            "overflow_x": null,
            "grid_auto_flow": null,
            "grid_area": null,
            "grid_template_columns": null,
            "flex": null,
            "_model_name": "LayoutModel",
            "justify_items": null,
            "grid_row": null,
            "max_height": null,
            "align_content": null,
            "visibility": null,
            "align_self": null,
            "height": null,
            "min_height": null,
            "padding": null,
            "grid_auto_rows": null,
            "grid_gap": null,
            "max_width": null,
            "order": null,
            "_view_module_version": "1.2.0",
            "grid_template_areas": null,
            "object_position": null,
            "object_fit": null,
            "grid_auto_columns": null,
            "margin": null,
            "display": null,
            "left": null
          }
        },
        "02503165dc71448f80dc163931f4c0be": {
          "model_module": "@jupyter-widgets/controls",
          "model_name": "VBoxModel",
          "state": {
            "_view_name": "VBoxView",
            "_dom_classes": [],
            "_model_name": "VBoxModel",
            "_view_module": "@jupyter-widgets/controls",
            "_model_module_version": "1.5.0",
            "_view_count": null,
            "_view_module_version": "1.5.0",
            "box_style": "",
            "layout": "IPY_MODEL_65865888198743f4b51dc61fc5033f0d",
            "_model_module": "@jupyter-widgets/controls",
            "children": [
              "IPY_MODEL_9ee76cf4bd384613a184c52f209f980e",
              "IPY_MODEL_07e764d1a9c445ddbf5d564dad5acf80"
            ]
          }
        },
        "65865888198743f4b51dc61fc5033f0d": {
          "model_module": "@jupyter-widgets/base",
          "model_name": "LayoutModel",
          "state": {
            "_view_name": "LayoutView",
            "grid_template_rows": null,
            "right": null,
            "justify_content": null,
            "_view_module": "@jupyter-widgets/base",
            "overflow": null,
            "_model_module_version": "1.2.0",
            "_view_count": null,
            "flex_flow": null,
            "width": null,
            "min_width": null,
            "border": null,
            "align_items": null,
            "bottom": null,
            "_model_module": "@jupyter-widgets/base",
            "top": null,
            "grid_column": null,
            "overflow_y": null,
            "overflow_x": null,
            "grid_auto_flow": null,
            "grid_area": null,
            "grid_template_columns": null,
            "flex": null,
            "_model_name": "LayoutModel",
            "justify_items": null,
            "grid_row": null,
            "max_height": null,
            "align_content": null,
            "visibility": null,
            "align_self": null,
            "height": null,
            "min_height": null,
            "padding": null,
            "grid_auto_rows": null,
            "grid_gap": null,
            "max_width": null,
            "order": null,
            "_view_module_version": "1.2.0",
            "grid_template_areas": null,
            "object_position": null,
            "object_fit": null,
            "grid_auto_columns": null,
            "margin": null,
            "display": null,
            "left": null
          }
        },
        "9ee76cf4bd384613a184c52f209f980e": {
          "model_module": "@jupyter-widgets/controls",
          "model_name": "LabelModel",
          "state": {
            "_view_name": "LabelView",
            "style": "IPY_MODEL_1d59f672b0874129a3d80d0b51868dad",
            "_dom_classes": [],
            "description": "",
            "_model_name": "LabelModel",
            "placeholder": "​",
            "_view_module": "@jupyter-widgets/controls",
            "_model_module_version": "1.5.0",
            "value": " 0.01MB of 0.01MB uploaded (0.00MB deduped)\r",
            "_view_count": null,
            "_view_module_version": "1.5.0",
            "description_tooltip": null,
            "_model_module": "@jupyter-widgets/controls",
            "layout": "IPY_MODEL_9a30371df98c4b6c9498c0624290f6bc"
          }
        },
        "07e764d1a9c445ddbf5d564dad5acf80": {
          "model_module": "@jupyter-widgets/controls",
          "model_name": "FloatProgressModel",
          "state": {
            "_view_name": "ProgressView",
            "style": "IPY_MODEL_4c6f93ec47a54e16af03af854f6cad0f",
            "_dom_classes": [],
            "description": "",
            "_model_name": "FloatProgressModel",
            "bar_style": "",
            "max": 1,
            "_view_module": "@jupyter-widgets/controls",
            "_model_module_version": "1.5.0",
            "value": 1,
            "_view_count": null,
            "_view_module_version": "1.5.0",
            "orientation": "horizontal",
            "min": 0,
            "description_tooltip": null,
            "_model_module": "@jupyter-widgets/controls",
            "layout": "IPY_MODEL_ad7a2147b48b43e6877261cd4b9922c7"
          }
        },
        "1d59f672b0874129a3d80d0b51868dad": {
          "model_module": "@jupyter-widgets/controls",
          "model_name": "DescriptionStyleModel",
          "state": {
            "_view_name": "StyleView",
            "_model_name": "DescriptionStyleModel",
            "description_width": "",
            "_view_module": "@jupyter-widgets/base",
            "_model_module_version": "1.5.0",
            "_view_count": null,
            "_view_module_version": "1.2.0",
            "_model_module": "@jupyter-widgets/controls"
          }
        },
        "9a30371df98c4b6c9498c0624290f6bc": {
          "model_module": "@jupyter-widgets/base",
          "model_name": "LayoutModel",
          "state": {
            "_view_name": "LayoutView",
            "grid_template_rows": null,
            "right": null,
            "justify_content": null,
            "_view_module": "@jupyter-widgets/base",
            "overflow": null,
            "_model_module_version": "1.2.0",
            "_view_count": null,
            "flex_flow": null,
            "width": null,
            "min_width": null,
            "border": null,
            "align_items": null,
            "bottom": null,
            "_model_module": "@jupyter-widgets/base",
            "top": null,
            "grid_column": null,
            "overflow_y": null,
            "overflow_x": null,
            "grid_auto_flow": null,
            "grid_area": null,
            "grid_template_columns": null,
            "flex": null,
            "_model_name": "LayoutModel",
            "justify_items": null,
            "grid_row": null,
            "max_height": null,
            "align_content": null,
            "visibility": null,
            "align_self": null,
            "height": null,
            "min_height": null,
            "padding": null,
            "grid_auto_rows": null,
            "grid_gap": null,
            "max_width": null,
            "order": null,
            "_view_module_version": "1.2.0",
            "grid_template_areas": null,
            "object_position": null,
            "object_fit": null,
            "grid_auto_columns": null,
            "margin": null,
            "display": null,
            "left": null
          }
        },
        "4c6f93ec47a54e16af03af854f6cad0f": {
          "model_module": "@jupyter-widgets/controls",
          "model_name": "ProgressStyleModel",
          "state": {
            "_view_name": "StyleView",
            "_model_name": "ProgressStyleModel",
            "description_width": "",
            "_view_module": "@jupyter-widgets/base",
            "_model_module_version": "1.5.0",
            "_view_count": null,
            "_view_module_version": "1.2.0",
            "bar_color": null,
            "_model_module": "@jupyter-widgets/controls"
          }
        },
        "ad7a2147b48b43e6877261cd4b9922c7": {
          "model_module": "@jupyter-widgets/base",
          "model_name": "LayoutModel",
          "state": {
            "_view_name": "LayoutView",
            "grid_template_rows": null,
            "right": null,
            "justify_content": null,
            "_view_module": "@jupyter-widgets/base",
            "overflow": null,
            "_model_module_version": "1.2.0",
            "_view_count": null,
            "flex_flow": null,
            "width": null,
            "min_width": null,
            "border": null,
            "align_items": null,
            "bottom": null,
            "_model_module": "@jupyter-widgets/base",
            "top": null,
            "grid_column": null,
            "overflow_y": null,
            "overflow_x": null,
            "grid_auto_flow": null,
            "grid_area": null,
            "grid_template_columns": null,
            "flex": null,
            "_model_name": "LayoutModel",
            "justify_items": null,
            "grid_row": null,
            "max_height": null,
            "align_content": null,
            "visibility": null,
            "align_self": null,
            "height": null,
            "min_height": null,
            "padding": null,
            "grid_auto_rows": null,
            "grid_gap": null,
            "max_width": null,
            "order": null,
            "_view_module_version": "1.2.0",
            "grid_template_areas": null,
            "object_position": null,
            "object_fit": null,
            "grid_auto_columns": null,
            "margin": null,
            "display": null,
            "left": null
          }
        }
      }
    }
  },
  "cells": [
    {
      "cell_type": "markdown",
      "metadata": {
        "id": "view-in-github",
        "colab_type": "text"
      },
      "source": [
        "<a href=\"https://colab.research.google.com/github/sayan0506/Task-2-Internship/blob/main/IIITD_Task_2_test_assignment.ipynb\" target=\"_parent\"><img src=\"https://colab.research.google.com/assets/colab-badge.svg\" alt=\"Open In Colab\"/></a>"
      ]
    },
    {
      "cell_type": "markdown",
      "metadata": {
        "id": "OBc2tL-aYKNs"
      },
      "source": [
        "## Model testing"
      ]
    },
    {
      "cell_type": "code",
      "metadata": {
        "colab": {
          "base_uri": "https://localhost:8080/"
        },
        "id": "ELJLMzCmovAF",
        "outputId": "37037d5b-dd3c-473b-b548-ef972c980037"
      },
      "source": [
        "# install wandb\n",
        "!pip install --upgrade wandb"
      ],
      "execution_count": 49,
      "outputs": [
        {
          "output_type": "stream",
          "text": [
            "Collecting wandb\n",
            "\u001b[?25l  Downloading https://files.pythonhosted.org/packages/f6/28/4aefc543967839bdb4e139831b82004279f1c435cede2a9557ccf8369875/wandb-0.10.27-py2.py3-none-any.whl (2.1MB)\n",
            "\u001b[K     |████████████████████████████████| 2.1MB 8.3MB/s \n",
            "\u001b[?25hCollecting shortuuid>=0.5.0\n",
            "  Downloading https://files.pythonhosted.org/packages/25/a6/2ecc1daa6a304e7f1b216f0896b26156b78e7c38e1211e9b798b4716c53d/shortuuid-1.0.1-py3-none-any.whl\n",
            "Requirement already satisfied, skipping upgrade: python-dateutil>=2.6.1 in /usr/local/lib/python3.7/dist-packages (from wandb) (2.8.1)\n",
            "Collecting subprocess32>=3.5.3\n",
            "\u001b[?25l  Downloading https://files.pythonhosted.org/packages/32/c8/564be4d12629b912ea431f1a50eb8b3b9d00f1a0b1ceff17f266be190007/subprocess32-3.5.4.tar.gz (97kB)\n",
            "\u001b[K     |████████████████████████████████| 102kB 10.6MB/s \n",
            "\u001b[?25hCollecting configparser>=3.8.1\n",
            "  Downloading https://files.pythonhosted.org/packages/fd/01/ff260a18caaf4457eb028c96eeb405c4a230ca06c8ec9c1379f813caa52e/configparser-5.0.2-py3-none-any.whl\n",
            "Requirement already satisfied, skipping upgrade: psutil>=5.0.0 in /usr/local/lib/python3.7/dist-packages (from wandb) (5.4.8)\n",
            "Collecting sentry-sdk>=0.4.0\n",
            "\u001b[?25l  Downloading https://files.pythonhosted.org/packages/f3/92/5a33be64990ba815364a8f2dd9e6f51de60d23dfddafb4f1fc5577d4dc64/sentry_sdk-1.0.0-py2.py3-none-any.whl (131kB)\n",
            "\u001b[K     |████████████████████████████████| 133kB 46.1MB/s \n",
            "\u001b[?25hRequirement already satisfied, skipping upgrade: PyYAML in /usr/local/lib/python3.7/dist-packages (from wandb) (3.13)\n",
            "Requirement already satisfied, skipping upgrade: Click>=7.0 in /usr/local/lib/python3.7/dist-packages (from wandb) (7.1.2)\n",
            "Collecting pathtools\n",
            "  Downloading https://files.pythonhosted.org/packages/e7/7f/470d6fcdf23f9f3518f6b0b76be9df16dcc8630ad409947f8be2eb0ed13a/pathtools-0.1.2.tar.gz\n",
            "Requirement already satisfied, skipping upgrade: six>=1.13.0 in /usr/local/lib/python3.7/dist-packages (from wandb) (1.15.0)\n",
            "Collecting docker-pycreds>=0.4.0\n",
            "  Downloading https://files.pythonhosted.org/packages/f5/e8/f6bd1eee09314e7e6dee49cbe2c5e22314ccdb38db16c9fc72d2fa80d054/docker_pycreds-0.4.0-py2.py3-none-any.whl\n",
            "Requirement already satisfied, skipping upgrade: protobuf>=3.12.0 in /usr/local/lib/python3.7/dist-packages (from wandb) (3.12.4)\n",
            "Collecting GitPython>=1.0.0\n",
            "\u001b[?25l  Downloading https://files.pythonhosted.org/packages/a6/99/98019716955ba243657daedd1de8f3a88ca1f5b75057c38e959db22fb87b/GitPython-3.1.14-py3-none-any.whl (159kB)\n",
            "\u001b[K     |████████████████████████████████| 163kB 48.0MB/s \n",
            "\u001b[?25hRequirement already satisfied, skipping upgrade: promise<3,>=2.0 in /usr/local/lib/python3.7/dist-packages (from wandb) (2.3)\n",
            "Requirement already satisfied, skipping upgrade: requests<3,>=2.0.0 in /usr/local/lib/python3.7/dist-packages (from wandb) (2.23.0)\n",
            "Requirement already satisfied, skipping upgrade: certifi in /usr/local/lib/python3.7/dist-packages (from sentry-sdk>=0.4.0->wandb) (2020.12.5)\n",
            "Requirement already satisfied, skipping upgrade: urllib3>=1.10.0 in /usr/local/lib/python3.7/dist-packages (from sentry-sdk>=0.4.0->wandb) (1.24.3)\n",
            "Requirement already satisfied, skipping upgrade: setuptools in /usr/local/lib/python3.7/dist-packages (from protobuf>=3.12.0->wandb) (56.0.0)\n",
            "Collecting gitdb<5,>=4.0.1\n",
            "\u001b[?25l  Downloading https://files.pythonhosted.org/packages/ea/e8/f414d1a4f0bbc668ed441f74f44c116d9816833a48bf81d22b697090dba8/gitdb-4.0.7-py3-none-any.whl (63kB)\n",
            "\u001b[K     |████████████████████████████████| 71kB 7.6MB/s \n",
            "\u001b[?25hRequirement already satisfied, skipping upgrade: chardet<4,>=3.0.2 in /usr/local/lib/python3.7/dist-packages (from requests<3,>=2.0.0->wandb) (3.0.4)\n",
            "Requirement already satisfied, skipping upgrade: idna<3,>=2.5 in /usr/local/lib/python3.7/dist-packages (from requests<3,>=2.0.0->wandb) (2.10)\n",
            "Collecting smmap<5,>=3.0.1\n",
            "  Downloading https://files.pythonhosted.org/packages/68/ee/d540eb5e5996eb81c26ceffac6ee49041d473bc5125f2aa995cf51ec1cf1/smmap-4.0.0-py2.py3-none-any.whl\n",
            "Building wheels for collected packages: subprocess32, pathtools\n",
            "  Building wheel for subprocess32 (setup.py) ... \u001b[?25l\u001b[?25hdone\n",
            "  Created wheel for subprocess32: filename=subprocess32-3.5.4-cp37-none-any.whl size=6489 sha256=2d0011a8bbef90ecc4dec8476a3cb6ddfa3ecea22e387b77e68050b4a8377b43\n",
            "  Stored in directory: /root/.cache/pip/wheels/68/39/1a/5e402bdfdf004af1786c8b853fd92f8c4a04f22aad179654d1\n",
            "  Building wheel for pathtools (setup.py) ... \u001b[?25l\u001b[?25hdone\n",
            "  Created wheel for pathtools: filename=pathtools-0.1.2-cp37-none-any.whl size=8786 sha256=840096167f37ec924f647e17f1dc9e9ab293fa29466c7274da7d2adc7503c602\n",
            "  Stored in directory: /root/.cache/pip/wheels/0b/04/79/c3b0c3a0266a3cb4376da31e5bfe8bba0c489246968a68e843\n",
            "Successfully built subprocess32 pathtools\n",
            "Installing collected packages: shortuuid, subprocess32, configparser, sentry-sdk, pathtools, docker-pycreds, smmap, gitdb, GitPython, wandb\n",
            "Successfully installed GitPython-3.1.14 configparser-5.0.2 docker-pycreds-0.4.0 gitdb-4.0.7 pathtools-0.1.2 sentry-sdk-1.0.0 shortuuid-1.0.1 smmap-4.0.0 subprocess32-3.5.4 wandb-0.10.27\n"
          ],
          "name": "stdout"
        }
      ]
    },
    {
      "cell_type": "markdown",
      "metadata": {
        "id": "zHDulWKcYdwV"
      },
      "source": [
        "Import dependencies"
      ]
    },
    {
      "cell_type": "code",
      "metadata": {
        "id": "sZ4rZRFWYc_S"
      },
      "source": [
        "import zipfile\n",
        "import os\n",
        "import numpy as np\n",
        "import matplotlib.pyplot as plt\n",
        "import seaborn as sns\n",
        "import random\n",
        "import pandas as pd\n",
        "\n",
        "import tensorflow as tf\n",
        "import keras\n",
        "from keras.preprocessing.image import img_to_array\n",
        "from tensorflow.keras.preprocessing.image import ImageDataGenerator\n",
        "from keras.utils.vis_utils import plot_model\n",
        "from tensorflow.keras.optimizers import Adam\n",
        "from keras.callbacks import ModelCheckpoint\n",
        "\n",
        "#from livelossplot import PlotLossesKeras\n",
        "from keras.models import model_from_json\n",
        "\n",
        "from sklearn import metrics\n",
        "from sklearn.metrics import confusion_matrix\n",
        "import matplotlib.cm as cm"
      ],
      "execution_count": 2,
      "outputs": []
    },
    {
      "cell_type": "markdown",
      "metadata": {
        "id": "TWsQe9t3YXCb"
      },
      "source": [
        "Improve Reproducibility"
      ]
    },
    {
      "cell_type": "code",
      "metadata": {
        "id": "-t6vgvfwYWS5"
      },
      "source": [
        "# improve reproducibility and make it more deterministic\n",
        "os.environ['TF_CUDNN_DETERMINISTIC'] = '1'\n",
        "random.seed(hash(\"setting random seeds\") % 2**32 - 1)\n",
        "np.random.seed(hash(\"improves reproducibility\") % 2**32 - 1)\n",
        "tf.random.set_seed(hash(\"by rmoving stochasticity\")% 2**32 -1)"
      ],
      "execution_count": 3,
      "outputs": []
    },
    {
      "cell_type": "markdown",
      "metadata": {
        "id": "wUYPQqCxo092"
      },
      "source": [
        "Setup wandb"
      ]
    },
    {
      "cell_type": "code",
      "metadata": {
        "colab": {
          "base_uri": "https://localhost:8080/",
          "height": 69
        },
        "id": "AzswFguno2oV",
        "outputId": "8c7dc357-69e2-4f57-f08e-498091d3d05c"
      },
      "source": [
        "import wandb\n",
        "from wandb.keras import WandbCallback\n",
        "\n",
        "# authorize\n",
        "wandb.login()"
      ],
      "execution_count": 50,
      "outputs": [
        {
          "output_type": "display_data",
          "data": {
            "application/javascript": [
              "\n",
              "        window._wandbApiKey = new Promise((resolve, reject) => {\n",
              "            function loadScript(url) {\n",
              "            return new Promise(function(resolve, reject) {\n",
              "                let newScript = document.createElement(\"script\");\n",
              "                newScript.onerror = reject;\n",
              "                newScript.onload = resolve;\n",
              "                document.body.appendChild(newScript);\n",
              "                newScript.src = url;\n",
              "            });\n",
              "            }\n",
              "            loadScript(\"https://cdn.jsdelivr.net/npm/postmate/build/postmate.min.js\").then(() => {\n",
              "            const iframe = document.createElement('iframe')\n",
              "            iframe.style.cssText = \"width:0;height:0;border:none\"\n",
              "            document.body.appendChild(iframe)\n",
              "            const handshake = new Postmate({\n",
              "                container: iframe,\n",
              "                url: 'https://wandb.ai/authorize'\n",
              "            });\n",
              "            const timeout = setTimeout(() => reject(\"Couldn't auto authenticate\"), 5000)\n",
              "            handshake.then(function(child) {\n",
              "                child.on('authorize', data => {\n",
              "                    clearTimeout(timeout)\n",
              "                    resolve(data)\n",
              "                });\n",
              "            });\n",
              "            })\n",
              "        });\n",
              "    "
            ],
            "text/plain": [
              "<IPython.core.display.Javascript object>"
            ]
          },
          "metadata": {
            "tags": []
          }
        },
        {
          "output_type": "stream",
          "text": [
            "\u001b[34m\u001b[1mwandb\u001b[0m: Appending key for api.wandb.ai to your netrc file: /root/.netrc\n"
          ],
          "name": "stderr"
        },
        {
          "output_type": "execute_result",
          "data": {
            "text/plain": [
              "True"
            ]
          },
          "metadata": {
            "tags": []
          },
          "execution_count": 50
        }
      ]
    },
    {
      "cell_type": "markdown",
      "metadata": {
        "id": "X_KCHrehaN44"
      },
      "source": [
        "Download Dataset"
      ]
    },
    {
      "cell_type": "code",
      "metadata": {
        "colab": {
          "base_uri": "https://localhost:8080/"
        },
        "id": "5vzIxkrraU0_",
        "outputId": "6366d88c-e8e7-4970-cbe3-fd57b1d311fa"
      },
      "source": [
        "!wget https://www.dropbox.com/s/qg95ta6dm3f1mek/testPart1.zip?dl=0"
      ],
      "execution_count": 6,
      "outputs": [
        {
          "output_type": "stream",
          "text": [
            "--2021-04-24 10:38:00--  https://www.dropbox.com/s/qg95ta6dm3f1mek/testPart1.zip?dl=0\n",
            "Resolving www.dropbox.com (www.dropbox.com)... 162.125.2.18, 2620:100:6017:18::a27d:212\n",
            "Connecting to www.dropbox.com (www.dropbox.com)|162.125.2.18|:443... connected.\n",
            "HTTP request sent, awaiting response... 301 Moved Permanently\n",
            "Location: /s/raw/qg95ta6dm3f1mek/testPart1.zip [following]\n",
            "--2021-04-24 10:38:00--  https://www.dropbox.com/s/raw/qg95ta6dm3f1mek/testPart1.zip\n",
            "Reusing existing connection to www.dropbox.com:443.\n",
            "HTTP request sent, awaiting response... 302 Found\n",
            "Location: https://ucce1750d8ef0462ba816bbee8f1.dl.dropboxusercontent.com/cd/0/inline/BNMweMCVZg1hFc7kGRpxgxc7Iucm80Psxay7XBG16dI7z2PTLaBnGY6EpnJI-Pounp2mIe1ol-aq0BiMm1YSYzMSna8LLxrupz0euLpeZFsyuC_K4i22c27MeuFGoHAvDcF3d3DmPu2RSUhUxVsi0jvd/file# [following]\n",
            "--2021-04-24 10:38:00--  https://ucce1750d8ef0462ba816bbee8f1.dl.dropboxusercontent.com/cd/0/inline/BNMweMCVZg1hFc7kGRpxgxc7Iucm80Psxay7XBG16dI7z2PTLaBnGY6EpnJI-Pounp2mIe1ol-aq0BiMm1YSYzMSna8LLxrupz0euLpeZFsyuC_K4i22c27MeuFGoHAvDcF3d3DmPu2RSUhUxVsi0jvd/file\n",
            "Resolving ucce1750d8ef0462ba816bbee8f1.dl.dropboxusercontent.com (ucce1750d8ef0462ba816bbee8f1.dl.dropboxusercontent.com)... 162.125.2.15, 2620:100:6017:15::a27d:20f\n",
            "Connecting to ucce1750d8ef0462ba816bbee8f1.dl.dropboxusercontent.com (ucce1750d8ef0462ba816bbee8f1.dl.dropboxusercontent.com)|162.125.2.15|:443... connected.\n",
            "HTTP request sent, awaiting response... 302 Found\n",
            "Location: /cd/0/inline2/BNPj8MQ50kJJqDqhmvb6DP11wvP4n0IZVgfUo-23jOQWh4MMlhVM7FflwP0jvGFc5dc-reUGeAR48QMt5JGlY2kmrOxgMv1oBRtVI3WJz5iYJ2vIKK_miFsaIJCRhbBmWlT60ki1Yr65k0ea1o_SUDMa5krr8aCA2-ml3d4W9xBZjxnl9YtdjcS9H7OrbOA8ZWtMoxibhr7mhxncsiS83h4z_zURq8a5-644wPT-cKr75Br0Sh4ywpXNT87kp_fgd9yPbg-lExyyjRV28r5r8_5oyQDdp51YlT1R_ZlYYYV5MqEE3qSlGwZG-u3YjsNPRKoOivAW8jW1zqBDe5C-9noVdOb7lzVSpR5hF61CgOvegPcq6wTGVQY5OVR1A8vnZJE/file [following]\n",
            "--2021-04-24 10:38:00--  https://ucce1750d8ef0462ba816bbee8f1.dl.dropboxusercontent.com/cd/0/inline2/BNPj8MQ50kJJqDqhmvb6DP11wvP4n0IZVgfUo-23jOQWh4MMlhVM7FflwP0jvGFc5dc-reUGeAR48QMt5JGlY2kmrOxgMv1oBRtVI3WJz5iYJ2vIKK_miFsaIJCRhbBmWlT60ki1Yr65k0ea1o_SUDMa5krr8aCA2-ml3d4W9xBZjxnl9YtdjcS9H7OrbOA8ZWtMoxibhr7mhxncsiS83h4z_zURq8a5-644wPT-cKr75Br0Sh4ywpXNT87kp_fgd9yPbg-lExyyjRV28r5r8_5oyQDdp51YlT1R_ZlYYYV5MqEE3qSlGwZG-u3YjsNPRKoOivAW8jW1zqBDe5C-9noVdOb7lzVSpR5hF61CgOvegPcq6wTGVQY5OVR1A8vnZJE/file\n",
            "Reusing existing connection to ucce1750d8ef0462ba816bbee8f1.dl.dropboxusercontent.com:443.\n",
            "HTTP request sent, awaiting response... 200 OK\n",
            "Length: 3758838 (3.6M) [application/zip]\n",
            "Saving to: ‘testPart1.zip?dl=0’\n",
            "\n",
            "testPart1.zip?dl=0  100%[===================>]   3.58M  --.-KB/s    in 0.07s   \n",
            "\n",
            "2021-04-24 10:38:01 (50.0 MB/s) - ‘testPart1.zip?dl=0’ saved [3758838/3758838]\n",
            "\n"
          ],
          "name": "stdout"
        }
      ]
    },
    {
      "cell_type": "markdown",
      "metadata": {
        "id": "g7FnBlKAabEs"
      },
      "source": [
        "Unzipping and loading"
      ]
    },
    {
      "cell_type": "code",
      "metadata": {
        "id": "S2QsuU33aieV"
      },
      "source": [
        "# defining unzipping function\n",
        "def unzip(zip_file, content_dir):\n",
        "  if not os.path.isdir(content_dir):\n",
        "    os.mkdir(content_dir)\n",
        "\n",
        "  # unzipping\n",
        "  with zipfile.ZipFile(zip_file, 'r') as zip_ref:\n",
        "    zip_ref.extractall(content_dir)"
      ],
      "execution_count": 7,
      "outputs": []
    },
    {
      "cell_type": "code",
      "metadata": {
        "id": "rSpCUqP1dgzh"
      },
      "source": [
        "\n",
        "# zipfile path\n",
        "zip_file = '/content/testPart1.zip?dl=0'\n",
        "\n",
        "# content directory\n",
        "content_dir = 'master_data'\n",
        "\n",
        "# calling unzip\n",
        "unzip(zip_file, content_dir)"
      ],
      "execution_count": 8,
      "outputs": []
    },
    {
      "cell_type": "markdown",
      "metadata": {
        "id": "DohP222waq1s"
      },
      "source": [
        "Data inspection"
      ]
    },
    {
      "cell_type": "code",
      "metadata": {
        "colab": {
          "base_uri": "https://localhost:8080/"
        },
        "id": "xBBUAPSaaqHE",
        "outputId": "f968ff38-6dd1-4399-bb23-24e5532db3f7"
      },
      "source": [
        "\n",
        "# master directory path\n",
        "img_dir = '/content/master_data/test/'\n",
        "\n",
        "# classifiers list\n",
        "print(f'List of classifiers\\n{sorted(os.listdir(img_dir))}')\n",
        "print(f'Total {len(os.listdir(img_dir))} classifiers are there')"
      ],
      "execution_count": 18,
      "outputs": [
        {
          "output_type": "stream",
          "text": [
            "List of classifiers\n",
            "['Sample001', 'Sample002', 'Sample003', 'Sample004', 'Sample005', 'Sample006', 'Sample007', 'Sample008', 'Sample009', 'Sample010', 'Sample011', 'Sample012', 'Sample013', 'Sample014', 'Sample015', 'Sample016', 'Sample017', 'Sample018', 'Sample019', 'Sample020', 'Sample021', 'Sample022', 'Sample023', 'Sample024', 'Sample025', 'Sample026', 'Sample027', 'Sample028', 'Sample029', 'Sample030', 'Sample031', 'Sample032', 'Sample033', 'Sample034', 'Sample035', 'Sample036', 'Sample037', 'Sample038', 'Sample039', 'Sample040', 'Sample041', 'Sample042', 'Sample043', 'Sample044', 'Sample045', 'Sample046', 'Sample047', 'Sample048', 'Sample049', 'Sample050', 'Sample051', 'Sample052', 'Sample053', 'Sample054', 'Sample055', 'Sample056', 'Sample057', 'Sample058', 'Sample059', 'Sample060', 'Sample061', 'Sample062']\n",
            "Total 62 classifiers are there\n"
          ],
          "name": "stdout"
        }
      ]
    },
    {
      "cell_type": "markdown",
      "metadata": {
        "id": "zN8hUvCwa3RE"
      },
      "source": [
        "Data Pre-processing"
      ]
    },
    {
      "cell_type": "code",
      "metadata": {
        "id": "OExEtV2MbDFJ"
      },
      "source": [
        "\n",
        "# define batch size based on which train datagen will prepare the data\n",
        "batch_size = 32"
      ],
      "execution_count": 19,
      "outputs": []
    },
    {
      "cell_type": "code",
      "metadata": {
        "colab": {
          "base_uri": "https://localhost:8080/"
        },
        "id": "YTqP_DbSa5m6",
        "outputId": "dcb75981-c97a-4151-d46c-e5313b6756d1"
      },
      "source": [
        "# creating imagedatagenerator object using keras\n",
        "train_datagen = ImageDataGenerator(rotation_range=None,\n",
        "                                   width_shift_range = None,\n",
        "                                   height_shift_range = None,\n",
        "                                   brightness_range = None,\n",
        "                                   zoom_range = 0.0,\n",
        "                                   rescale = 1./255.,\n",
        "                                   preprocessing_function = None,\n",
        "                                   dtype = np.float32\n",
        "                                   #validation_split = 1.0 #using validation split on same train data for validation\n",
        "                                   )\n",
        "\n",
        "# provide same seed and keyword arguments to the fit and flow methods \n",
        "seed = 1\n",
        "\n",
        "# obtaining images from tarin directory and apply augmentation using train datagen to create batches\n",
        "test_generator = train_datagen.flow_from_directory(directory=img_dir,\n",
        "                                                    target_size = (28,28),\n",
        "                                                    color_mode = \"grayscale\", # images are converted to grayscale\n",
        "                                                    classes = None,\n",
        "                                                    class_mode = \"sparse\", # sparse categorical helps to reduce space\n",
        "                                                    batch_size = batch_size,\n",
        "                                                    shuffle = True,\n",
        "                                                    seed = seed,\n",
        "                                                    subset = 'training'\n",
        ")\n"
      ],
      "execution_count": 25,
      "outputs": [
        {
          "output_type": "stream",
          "text": [
            "Found 930 images belonging to 62 classes.\n"
          ],
          "name": "stdout"
        }
      ]
    },
    {
      "cell_type": "markdown",
      "metadata": {
        "id": "rvggkLX2feH8"
      },
      "source": [
        "Visualization"
      ]
    },
    {
      "cell_type": "code",
      "metadata": {
        "id": "BNMparhwfdpp"
      },
      "source": [
        "def img_label_samples(train_generator, class_count = 62):\n",
        "  '''\n",
        "  Fetches 1st sample of each class from 0 to 61\n",
        "  Along with the class label or id\n",
        "  Takes total class samples to be visualized \n",
        "  Batch count as attributes\n",
        "  '''\n",
        "  # total batches in the train datagenerator\n",
        "  batch_count = len(train_generator)\n",
        "  # image list initialization\n",
        "  img_list = []\n",
        "  # labels list\n",
        "  labels = []\n",
        "\n",
        "  for cls in range(class_count):\n",
        "    for batch in range(batch_count):\n",
        "      # traversing through image label or class id\n",
        "      # O-> Batch, 1-> Class(for 1, 0 for image), 2-> Index of each image in the batch(0 to 31)\n",
        "      for i, j in enumerate(train_generator[batch][1][:]):\n",
        "        if int(j)==cls:\n",
        "          img_list.append(train_generator[batch][0][i])\n",
        "          labels.append(int(j))\n",
        "          break\n",
        "      if int(j) == cls:\n",
        "        break\n",
        "  return img_list, labels"
      ],
      "execution_count": 27,
      "outputs": []
    },
    {
      "cell_type": "code",
      "metadata": {
        "id": "cLIAqxW5fYd6"
      },
      "source": [
        "# obtain image and label list from train_generator\n",
        "img_list, labels = img_label_samples(test_generator)"
      ],
      "execution_count": 28,
      "outputs": []
    },
    {
      "cell_type": "code",
      "metadata": {
        "colab": {
          "base_uri": "https://localhost:8080/",
          "height": 678
        },
        "id": "mrtAcL2XhFg3",
        "outputId": "35c27e96-062e-400c-f925-008859b2014d"
      },
      "source": [
        "\n",
        "def vis_gen(img_list, labels):\n",
        "  '''\n",
        "  62 samples will be visualized\n",
        "  '''\n",
        "  cols = 9\n",
        "  rows = np.ceil(len(img_list)/9)\n",
        "  fig = plt.figure(figsize=(20,10))\n",
        "  fig.suptitle('Samples after pre-processing')\n",
        "  fig.tight_layout()\n",
        "  for i, c in enumerate(img_list):\n",
        "    fig.add_subplot(rows, cols, i+1)\n",
        "    plt.imshow(np.squeeze(c), cmap = 'binary')\n",
        "    plt.xlabel(f'Class id: {labels[i]}')\n",
        "\n",
        "  plt.show()\n",
        "\n",
        "# calling the visualization fn\n",
        "vis_gen(img_list, labels)"
      ],
      "execution_count": 29,
      "outputs": [
        {
          "output_type": "display_data",
          "data": {
            "image/png": "[encoded data removed]",
            "text/plain": [
              "<Figure size 1440x720 with 62 Axes>"
            ]
          },
          "metadata": {
            "tags": [],
            "needs_background": "light"
          }
        }
      ]
    },
    {
      "cell_type": "markdown",
      "metadata": {
        "id": "PsLidukPXr4m"
      },
      "source": [
        "Mount the drive\n",
        "https://drive.google.com/drive/u/0/folders/1y-nmh27fHB71eO622D9qgxowI8mU-0OY\n"
      ]
    },
    {
      "cell_type": "code",
      "metadata": {
        "colab": {
          "base_uri": "https://localhost:8080/"
        },
        "id": "I3rOiDt8XyMP",
        "outputId": "a1555a13-36d0-4b79-a408-d3f931545117"
      },
      "source": [
        "from google.colab import drive\n",
        "drive.mount('/content/drive')"
      ],
      "execution_count": 4,
      "outputs": [
        {
          "output_type": "stream",
          "text": [
            "Mounted at /content/drive\n"
          ],
          "name": "stdout"
        }
      ]
    },
    {
      "cell_type": "markdown",
      "metadata": {
        "id": "Ddm8atz9bP4N"
      },
      "source": [
        "Model hyperparameters and initialization"
      ]
    },
    {
      "cell_type": "code",
      "metadata": {
        "colab": {
          "base_uri": "https://localhost:8080/"
        },
        "id": "Fh3kL63JbPHX",
        "outputId": "3091c1cc-e084-4325-f75d-a16b3a85ec9d"
      },
      "source": [
        "# input image shape = (28,28,1)\n",
        "input_shape = train_generator.image_shape\n",
        "# num_classes = 62\n",
        "num_classes = train_generator.num_classes\n",
        "print(f'Model input_shape {input_shape}')\n",
        "print(f'Number of output class {num_classes}')"
      ],
      "execution_count": 30,
      "outputs": [
        {
          "output_type": "stream",
          "text": [
            "Model input_shape (28, 28, 1)\n",
            "Number of output class 62\n"
          ],
          "name": "stdout"
        }
      ]
    },
    {
      "cell_type": "code",
      "metadata": {
        "colab": {
          "base_uri": "https://localhost:8080/"
        },
        "id": "s3wva2ktT6pY",
        "outputId": "d3a6e2f0-a5c7-432c-ef25-5c86211f5d94"
      },
      "source": [
        "\n",
        "best_weights_file = '/content/drive/MyDrive/IIITD Assignment/Best Master model section 1/Master_training_epoch_20.hdf5'\n",
        "#random_initialized_weights_file = '/content/drive/MyDrive/Agriculture AI/Potato Model/model_initial.h5'\n",
        "\n",
        "'''\n",
        "# saving model architecture as json\n",
        "model_json = model.to_json()\n",
        "with open(\"model_final.json\", \"w\") as json_file:\n",
        "  json_file.write(model_json)\n",
        "'''\n",
        "\n",
        "model_json_file = '/content/drive/MyDrive/IIITD Assignment/Model Json File/model_final.json'\n",
        "\n",
        "print(f'Best weight file for the model {best_weights_file}')\n",
        "#print(f'Best weight file for the model {random_initialized_weights_file}')\n",
        "print(f'Model json file {model_json_file}')"
      ],
      "execution_count": 43,
      "outputs": [
        {
          "output_type": "stream",
          "text": [
            "Best weight file for the model /content/drive/MyDrive/IIITD Assignment/Best Master model section 1/Master_training_epoch_20.hdf5\n",
            "Model json file /content/drive/MyDrive/IIITD Assignment/Model Json File/model_final.json\n"
          ],
          "name": "stdout"
        }
      ]
    },
    {
      "cell_type": "code",
      "metadata": {
        "id": "MwlKWqOrX0vQ"
      },
      "source": [
        "# defining the hyperparameters\n",
        "\n",
        "# initial/ optimal LR\n",
        "learning_rate = 0.001 # tobe tuned using scheduler\n",
        "epochs = 20\n",
        "loss_fn = 'sparse_categorical_crossentropy'"
      ],
      "execution_count": 44,
      "outputs": []
    },
    {
      "cell_type": "code",
      "metadata": {
        "colab": {
          "base_uri": "https://localhost:8080/"
        },
        "id": "QD0o8I1AX2vr",
        "outputId": "ac700650-552e-4a89-a610-6668484f2b9c"
      },
      "source": [
        "\n",
        "# open json file in read mode\n",
        "json_file = open(model_json_file, 'r')\n",
        "# read the file\n",
        "loaded_model_json = json_file.read()\n",
        "# close the file\n",
        "json_file.close()\n",
        "\n",
        "# load the model\n",
        "model = model_from_json(loaded_model_json)\n",
        "\n",
        "# summary check\n",
        "model.summary()"
      ],
      "execution_count": 45,
      "outputs": [
        {
          "output_type": "stream",
          "text": [
            "Model: \"model\"\n",
            "_________________________________________________________________\n",
            "Layer (type)                 Output Shape              Param #   \n",
            "=================================================================\n",
            "input_1 (InputLayer)         [(None, 28, 28, 1)]       0         \n",
            "_________________________________________________________________\n",
            "conv2d (Conv2D)              (None, 26, 26, 32)        320       \n",
            "_________________________________________________________________\n",
            "max_pooling2d (MaxPooling2D) (None, 13, 13, 32)        0         \n",
            "_________________________________________________________________\n",
            "conv2d_1 (Conv2D)            (None, 11, 11, 64)        18496     \n",
            "_________________________________________________________________\n",
            "max_pooling2d_1 (MaxPooling2 (None, 5, 5, 64)          0         \n",
            "_________________________________________________________________\n",
            "flatten (Flatten)            (None, 1600)              0         \n",
            "_________________________________________________________________\n",
            "dense (Dense)                (None, 128)               204928    \n",
            "_________________________________________________________________\n",
            "dense_1 (Dense)              (None, 62)                7998      \n",
            "=================================================================\n",
            "Total params: 231,742\n",
            "Trainable params: 231,742\n",
            "Non-trainable params: 0\n",
            "_________________________________________________________________\n"
          ],
          "name": "stdout"
        }
      ]
    },
    {
      "cell_type": "code",
      "metadata": {
        "colab": {
          "base_uri": "https://localhost:8080/",
          "height": 312,
          "referenced_widgets": [
            "ada0d2cc29dc4085b13bba54316ab983",
            "d0269baa26b649d9bfaa993f92b4dea3",
            "b6c57732b8e242a98cd2f173e2997a5a",
            "efa7f90f11824dd8975ec41f2d781376",
            "5544486b07214834951ffb3fd7dbbd23",
            "509669e8dafe4821800f094e1712d81a",
            "575480aee1b946b8b57cde6fd53bb26b",
            "e10596a31b6648e6b0dc2d94c72425cb"
          ]
        },
        "id": "rYeLRS8aoo9C",
        "outputId": "af384c75-238a-4080-a4eb-bf32f42a9b8d"
      },
      "source": [
        "'''\n",
        "Instruction: Initialize everytime before using wandbcallback and run.join()\n",
        "'''\n",
        "# initialize wandb with the project\n",
        "\n",
        "run = wandb.init(project = 'Master Testing 2.1',\n",
        "                 config = {\n",
        "                     \"learning_rate\": learning_rate,\n",
        "                     \"epochs\": epochs,\n",
        "                     \"batch_size\": train_generator.batch_size,\n",
        "                     \"loss_function\": loss_fn,\n",
        "                     \"architecture\": \"CNN\",\n",
        "                     \"dataset\": 'Trainset'\n",
        "                 })\n",
        "\n",
        "# will be used to configure the experiment log for wandb tracking \n",
        "config = wandb.config\n"
      ],
      "execution_count": 55,
      "outputs": [
        {
          "output_type": "display_data",
          "data": {
            "text/html": [
              "Finishing last run (ID:a7z7kx3p) before initializing another..."
            ],
            "text/plain": [
              "<IPython.core.display.HTML object>"
            ]
          },
          "metadata": {
            "tags": []
          }
        },
        {
          "output_type": "display_data",
          "data": {
            "text/html": [
              "<br/>Waiting for W&B process to finish, PID 944<br/>Program ended successfully."
            ],
            "text/plain": [
              "<IPython.core.display.HTML object>"
            ]
          },
          "metadata": {
            "tags": []
          }
        },
        {
          "output_type": "display_data",
          "data": {
            "application/vnd.jupyter.widget-view+json": {
              "model_id": "ada0d2cc29dc4085b13bba54316ab983",
              "version_minor": 0,
              "version_major": 2
            },
            "text/plain": [
              "VBox(children=(Label(value=' 0.00MB of 0.00MB uploaded (0.00MB deduped)\\r'), FloatProgress(value=1.0, max=1.0)…"
            ]
          },
          "metadata": {
            "tags": []
          }
        },
        {
          "output_type": "display_data",
          "data": {
            "text/html": [
              "Find user logs for this run at: <code>/content/wandb/run-20210424_112911-a7z7kx3p/logs/debug.log</code>"
            ],
            "text/plain": [
              "<IPython.core.display.HTML object>"
            ]
          },
          "metadata": {
            "tags": []
          }
        },
        {
          "output_type": "display_data",
          "data": {
            "text/html": [
              "Find internal logs for this run at: <code>/content/wandb/run-20210424_112911-a7z7kx3p/logs/debug-internal.log</code>"
            ],
            "text/plain": [
              "<IPython.core.display.HTML object>"
            ]
          },
          "metadata": {
            "tags": []
          }
        },
        {
          "output_type": "display_data",
          "data": {
            "text/html": [
              "Synced 5 W&B file(s), 0 media file(s), 0 artifact file(s) and 0 other file(s)"
            ],
            "text/plain": [
              "<IPython.core.display.HTML object>"
            ]
          },
          "metadata": {
            "tags": []
          }
        },
        {
          "output_type": "display_data",
          "data": {
            "text/html": [
              "\n",
              "                    <br/>Synced <strong style=\"color:#cdcd00\">divine-deluge-1</strong>: <a href=\"https://wandb.ai/sayan0506/Master%20Testing%202.1/runs/a7z7kx3p\" target=\"_blank\">https://wandb.ai/sayan0506/Master%20Testing%202.1/runs/a7z7kx3p</a><br/>\n",
              "                "
            ],
            "text/plain": [
              "<IPython.core.display.HTML object>"
            ]
          },
          "metadata": {
            "tags": []
          }
        },
        {
          "output_type": "display_data",
          "data": {
            "text/html": [
              "...Successfully finished last run (ID:a7z7kx3p). Initializing new run:<br/><br/>"
            ],
            "text/plain": [
              "<IPython.core.display.HTML object>"
            ]
          },
          "metadata": {
            "tags": []
          }
        },
        {
          "output_type": "display_data",
          "data": {
            "text/html": [
              "\n",
              "                Tracking run with wandb version 0.10.27<br/>\n",
              "                Syncing run <strong style=\"color:#cdcd00\">fresh-smoke-2</strong> to <a href=\"https://wandb.ai\" target=\"_blank\">Weights & Biases</a> <a href=\"https://docs.wandb.com/integrations/jupyter.html\" target=\"_blank\">(Documentation)</a>.<br/>\n",
              "                Project page: <a href=\"https://wandb.ai/sayan0506/Master%20Testing%202.1\" target=\"_blank\">https://wandb.ai/sayan0506/Master%20Testing%202.1</a><br/>\n",
              "                Run page: <a href=\"https://wandb.ai/sayan0506/Master%20Testing%202.1/runs/1c69uuoy\" target=\"_blank\">https://wandb.ai/sayan0506/Master%20Testing%202.1/runs/1c69uuoy</a><br/>\n",
              "                Run data is saved locally in <code>/content/wandb/run-20210424_113108-1c69uuoy</code><br/><br/>\n",
              "            "
            ],
            "text/plain": [
              "<IPython.core.display.HTML object>"
            ]
          },
          "metadata": {
            "tags": []
          }
        }
      ]
    },
    {
      "cell_type": "code",
      "metadata": {
        "id": "jKbjvg4LX5tm"
      },
      "source": [
        "# compile the model\n",
        "# defining the optimizer \n",
        "optimizer = Adam(learning_rate)\n",
        "model.compile(optimizer=optimizer, loss = loss_fn, metrics = ['acc'])"
      ],
      "execution_count": 53,
      "outputs": []
    },
    {
      "cell_type": "code",
      "metadata": {
        "colab": {
          "base_uri": "https://localhost:8080/",
          "height": 457,
          "referenced_widgets": [
            "02503165dc71448f80dc163931f4c0be",
            "65865888198743f4b51dc61fc5033f0d",
            "9ee76cf4bd384613a184c52f209f980e",
            "07e764d1a9c445ddbf5d564dad5acf80",
            "1d59f672b0874129a3d80d0b51868dad",
            "9a30371df98c4b6c9498c0624290f6bc",
            "4c6f93ec47a54e16af03af854f6cad0f",
            "ad7a2147b48b43e6877261cd4b9922c7"
          ]
        },
        "id": "URKvpwnkX7xz",
        "outputId": "2ec222d5-c212-4147-eca4-4b98ae471a6e"
      },
      "source": [
        "# final evaluation check\n",
        "# based on final validation accuracy we are picking the model\n",
        "test_loss, test_acc = model.evaluate(test_generator)\n",
        "\n",
        "# wandb log analysis\n",
        "wandb.log({'Test error': round((1 - test_acc) * 100, 2)})\n",
        "\n",
        "run.join()"
      ],
      "execution_count": 56,
      "outputs": [
        {
          "output_type": "stream",
          "text": [
            "30/30 [==============================] - 15s 482ms/step - loss: 2.2446 - acc: 0.4355\n"
          ],
          "name": "stdout"
        },
        {
          "output_type": "display_data",
          "data": {
            "text/html": [
              "<br/>Waiting for W&B process to finish, PID 997<br/>Program ended successfully."
            ],
            "text/plain": [
              "<IPython.core.display.HTML object>"
            ]
          },
          "metadata": {
            "tags": []
          }
        },
        {
          "output_type": "display_data",
          "data": {
            "application/vnd.jupyter.widget-view+json": {
              "model_id": "02503165dc71448f80dc163931f4c0be",
              "version_minor": 0,
              "version_major": 2
            },
            "text/plain": [
              "VBox(children=(Label(value=' 0.00MB of 0.00MB uploaded (0.00MB deduped)\\r'), FloatProgress(value=1.0, max=1.0)…"
            ]
          },
          "metadata": {
            "tags": []
          }
        },
        {
          "output_type": "display_data",
          "data": {
            "text/html": [
              "Find user logs for this run at: <code>/content/wandb/run-20210424_113108-1c69uuoy/logs/debug.log</code>"
            ],
            "text/plain": [
              "<IPython.core.display.HTML object>"
            ]
          },
          "metadata": {
            "tags": []
          }
        },
        {
          "output_type": "display_data",
          "data": {
            "text/html": [
              "Find internal logs for this run at: <code>/content/wandb/run-20210424_113108-1c69uuoy/logs/debug-internal.log</code>"
            ],
            "text/plain": [
              "<IPython.core.display.HTML object>"
            ]
          },
          "metadata": {
            "tags": []
          }
        },
        {
          "output_type": "display_data",
          "data": {
            "text/html": [
              "<h3>Run summary:</h3><br/><style>\n",
              "    table.wandb td:nth-child(1) { padding: 0 10px; text-align: right }\n",
              "    </style><table class=\"wandb\">\n",
              "<tr><td>Test error</td><td>56.45</td></tr><tr><td>_runtime</td><td>18</td></tr><tr><td>_timestamp</td><td>1619263888</td></tr><tr><td>_step</td><td>0</td></tr></table>"
            ],
            "text/plain": [
              "<IPython.core.display.HTML object>"
            ]
          },
          "metadata": {
            "tags": []
          }
        },
        {
          "output_type": "display_data",
          "data": {
            "text/html": [
              "<h3>Run history:</h3><br/><style>\n",
              "    table.wandb td:nth-child(1) { padding: 0 10px; text-align: right }\n",
              "    </style><table class=\"wandb\">\n",
              "<tr><td>Test error</td><td>▁</td></tr><tr><td>_runtime</td><td>▁</td></tr><tr><td>_timestamp</td><td>▁</td></tr><tr><td>_step</td><td>▁</td></tr></table><br/>"
            ],
            "text/plain": [
              "<IPython.core.display.HTML object>"
            ]
          },
          "metadata": {
            "tags": []
          }
        },
        {
          "output_type": "display_data",
          "data": {
            "text/html": [
              "Synced 5 W&B file(s), 0 media file(s), 0 artifact file(s) and 0 other file(s)"
            ],
            "text/plain": [
              "<IPython.core.display.HTML object>"
            ]
          },
          "metadata": {
            "tags": []
          }
        },
        {
          "output_type": "display_data",
          "data": {
            "text/html": [
              "\n",
              "                    <br/>Synced <strong style=\"color:#cdcd00\">fresh-smoke-2</strong>: <a href=\"https://wandb.ai/sayan0506/Master%20Testing%202.1/runs/1c69uuoy\" target=\"_blank\">https://wandb.ai/sayan0506/Master%20Testing%202.1/runs/1c69uuoy</a><br/>\n",
              "                "
            ],
            "text/plain": [
              "<IPython.core.display.HTML object>"
            ]
          },
          "metadata": {
            "tags": []
          }
        }
      ]
    }
  ]
}